{
 "cells": [
  {
   "cell_type": "markdown",
   "metadata": {},
   "source": [
    "## Data Preparation"
   ]
  },
  {
   "cell_type": "code",
   "execution_count": 1,
   "metadata": {
    "collapsed": false
   },
   "outputs": [],
   "source": [
    "import pandas as pd\n",
    "from sklearn.cross_validation import train_test_split\n",
    "from sklearn import preprocessing\n",
    "from sklearn.feature_selection import SelectKBest\n",
    "from sklearn.feature_selection import f_regression\n",
    "import numpy as np\n",
    "from sklearn import linear_model\n",
    "from sklearn.grid_search import GridSearchCV\n",
    "from sklearn.cross_validation import KFold\n",
    "from sklearn.metrics import mean_absolute_error\n",
    "import matplotlib.pyplot as plt\n",
    "%matplotlib inline\n",
    "from sklearn.preprocessing import LabelEncoder"
   ]
  },
  {
   "cell_type": "code",
   "execution_count": 2,
   "metadata": {
    "collapsed": false
   },
   "outputs": [],
   "source": [
    "train = pd.read_csv(\"train.csv\",index_col=0)\n",
    "test = pd.read_csv(\"test.csv\",index_col=0)"
   ]
  },
  {
   "cell_type": "markdown",
   "metadata": {
    "collapsed": true
   },
   "source": [
    "## Split Train and Validation"
   ]
  },
  {
   "cell_type": "code",
   "execution_count": 3,
   "metadata": {
    "collapsed": false
   },
   "outputs": [],
   "source": [
    "X_train = train.drop(\"loss\",axis=1)\n",
    "Y_train = train['loss']\n",
    "#kfolds = KFold(n = data_subset.shape[0],n_folds=5)\n",
    "#X_train, X_validation, Y_train, Y_validation = train_test_split(X, Y, train_size=.75)"
   ]
  },
  {
   "cell_type": "code",
   "execution_count": 4,
   "metadata": {
    "collapsed": false
   },
   "outputs": [],
   "source": [
    "contFeatureslist = []\n",
    "for colName,x in X_train.iloc[1,:].iteritems():\n",
    "    if(not str(x).isalpha()):\n",
    "        contFeatureslist.append(colName)"
   ]
  },
  {
   "cell_type": "markdown",
   "metadata": {},
   "source": [
    "## Preselect some variables"
   ]
  },
  {
   "cell_type": "code",
   "execution_count": 5,
   "metadata": {
    "collapsed": false
   },
   "outputs": [
    {
     "ename": "AttributeError",
     "evalue": "'DataFrame' object has no attribute 'X_train'",
     "output_type": "error",
     "traceback": [
      "\u001b[1;31m---------------------------------------------------------------------------\u001b[0m",
      "\u001b[1;31mAttributeError\u001b[0m                            Traceback (most recent call last)",
      "\u001b[1;32m<ipython-input-5-fdd23e8179db>\u001b[0m in \u001b[0;36m<module>\u001b[1;34m()\u001b[0m\n\u001b[0;32m     16\u001b[0m \u001b[0mmask\u001b[0m \u001b[1;33m=\u001b[0m \u001b[0mb\u001b[0m\u001b[1;33m.\u001b[0m\u001b[0mget_support\u001b[0m\u001b[1;33m(\u001b[0m\u001b[1;33m)\u001b[0m\u001b[1;33m\u001b[0m\u001b[0m\n\u001b[0;32m     17\u001b[0m \u001b[0mfit\u001b[0m\u001b[1;33m.\u001b[0m\u001b[0mapply\u001b[0m\u001b[1;33m(\u001b[0m\u001b[1;32mlambda\u001b[0m \u001b[0mx\u001b[0m\u001b[1;33m:\u001b[0m \u001b[0md\u001b[0m\u001b[1;33m[\u001b[0m\u001b[0mx\u001b[0m\u001b[1;33m.\u001b[0m\u001b[0mname\u001b[0m\u001b[1;33m]\u001b[0m\u001b[1;33m.\u001b[0m\u001b[0minverse_transform\u001b[0m\u001b[1;33m(\u001b[0m\u001b[0mx\u001b[0m\u001b[1;33m)\u001b[0m\u001b[1;33m)\u001b[0m\u001b[1;33m\u001b[0m\u001b[0m\n\u001b[1;32m---> 18\u001b[1;33m \u001b[0mX_train\u001b[0m \u001b[1;33m=\u001b[0m \u001b[0mpd\u001b[0m\u001b[1;33m.\u001b[0m\u001b[0mconcat\u001b[0m\u001b[1;33m(\u001b[0m\u001b[1;33m[\u001b[0m\u001b[0mfit\u001b[0m\u001b[1;33m.\u001b[0m\u001b[0mX_train\u001b[0m\u001b[1;33m[\u001b[0m\u001b[0mcontFeatureslist\u001b[0m\u001b[1;33m]\u001b[0m\u001b[1;33m]\u001b[0m\u001b[1;33m,\u001b[0m\u001b[0maxis\u001b[0m\u001b[1;33m=\u001b[0m\u001b[1;36m1\u001b[0m\u001b[1;33m)\u001b[0m\u001b[1;33m\u001b[0m\u001b[0m\n\u001b[0m\u001b[0;32m     19\u001b[0m \u001b[1;31m# for cf in catFeatureslist:\u001b[0m\u001b[1;33m\u001b[0m\u001b[1;33m\u001b[0m\u001b[0m\n\u001b[0;32m     20\u001b[0m \u001b[1;31m#     X_train[cf] = le.inverse_transform(X_train[cf])\u001b[0m\u001b[1;33m\u001b[0m\u001b[1;33m\u001b[0m\u001b[0m\n",
      "\u001b[1;32m/home/peimengsui/anaconda3/lib/python3.5/site-packages/pandas/core/generic.py\u001b[0m in \u001b[0;36m__getattr__\u001b[1;34m(self, name)\u001b[0m\n\u001b[0;32m   2670\u001b[0m             \u001b[1;32mif\u001b[0m \u001b[0mname\u001b[0m \u001b[1;32min\u001b[0m \u001b[0mself\u001b[0m\u001b[1;33m.\u001b[0m\u001b[0m_info_axis\u001b[0m\u001b[1;33m:\u001b[0m\u001b[1;33m\u001b[0m\u001b[0m\n\u001b[0;32m   2671\u001b[0m                 \u001b[1;32mreturn\u001b[0m \u001b[0mself\u001b[0m\u001b[1;33m[\u001b[0m\u001b[0mname\u001b[0m\u001b[1;33m]\u001b[0m\u001b[1;33m\u001b[0m\u001b[0m\n\u001b[1;32m-> 2672\u001b[1;33m             \u001b[1;32mreturn\u001b[0m \u001b[0mobject\u001b[0m\u001b[1;33m.\u001b[0m\u001b[0m__getattribute__\u001b[0m\u001b[1;33m(\u001b[0m\u001b[0mself\u001b[0m\u001b[1;33m,\u001b[0m \u001b[0mname\u001b[0m\u001b[1;33m)\u001b[0m\u001b[1;33m\u001b[0m\u001b[0m\n\u001b[0m\u001b[0;32m   2673\u001b[0m \u001b[1;33m\u001b[0m\u001b[0m\n\u001b[0;32m   2674\u001b[0m     \u001b[1;32mdef\u001b[0m \u001b[0m__setattr__\u001b[0m\u001b[1;33m(\u001b[0m\u001b[0mself\u001b[0m\u001b[1;33m,\u001b[0m \u001b[0mname\u001b[0m\u001b[1;33m,\u001b[0m \u001b[0mvalue\u001b[0m\u001b[1;33m)\u001b[0m\u001b[1;33m:\u001b[0m\u001b[1;33m\u001b[0m\u001b[0m\n",
      "\u001b[1;31mAttributeError\u001b[0m: 'DataFrame' object has no attribute 'X_train'"
     ]
    }
   ],
   "source": [
    "X_train = X_train.drop([\"cat89\",\"cat92\",\"cat96\",\"cat99\",\"cat103\",\"cat106\",\"cat109\",\"cat110\",\"cat113\",\"cat116\"],axis=1)\n",
    "catFeatureslist = []\n",
    "for colName,x in X_train.iloc[1,:].iteritems():\n",
    "    if(str(x).isalpha()):\n",
    "        catFeatureslist.append(colName)\n",
    "from collections import defaultdict\n",
    "d = defaultdict(LabelEncoder)\n",
    "fit = X_train[catFeatureslist].apply(lambda x: d[x.name].fit_transform(x))\n",
    "result = pd.concat([fit, X_train[contFeatureslist]], axis=1)\n",
    "# for cf in catFeatureslist:\n",
    "#     le = LabelEncoder()\n",
    "#     le.fit(X_train[cf].unique())\n",
    "#     X_train[cf] = le.transform(X_train[cf])\n",
    "b = SelectKBest(f_regression, k=50)\n",
    "b.fit(result, Y_train)\n",
    "mask = b.get_support()\n",
    "fit = fit.apply(lambda x: d[x.name].inverse_transform(x))\n",
    "X_train = pd.concat([fit,X_train[contFeatureslist]],axis=1)\n",
    "# for cf in catFeatureslist:\n",
    "#     X_train[cf] = le.inverse_transform(X_train[cf])"
   ]
  },
  {
   "cell_type": "markdown",
   "metadata": {},
   "source": [
    "## Write a function to clean the data"
   ]
  },
  {
   "cell_type": "code",
   "execution_count": 11,
   "metadata": {
    "collapsed": true
   },
   "outputs": [],
   "source": [
    "def cleanTrainData(X,Y,mask):\n",
    "    clean_Y = np.log1p(Y)\n",
    "    clean_X = X[X.columns[mask]]\n",
    "    catFeatureslist = []\n",
    "    for colName in clean_X.columns:\n",
    "        if(colName[0:3]==\"cat\"):\n",
    "            catFeatureslist.append(colName)\n",
    "    clean_X = pd.get_dummies(clean_X,columns = catFeatureslist,drop_first = True, sparse = True)\n",
    "    contFeatureslist = []\n",
    "    for colName in clean_X.columns:\n",
    "        if(colName[0:4]==\"cont\"):\n",
    "            contFeatureslist.append(colName)\n",
    "    clean_X[contFeatureslist] = pd.DataFrame(preprocessing.scale(clean_X[contFeatureslist]),index = clean_X.index, columns = contFeatureslist)\n",
    "    return clean_X,clean_Y   "
   ]
  },
  {
   "cell_type": "code",
   "execution_count": 12,
   "metadata": {
    "collapsed": false
   },
   "outputs": [],
   "source": [
    "X_train_new,Y_train_new = cleanTrainData(X_train,Y_train,mask)"
   ]
  },
  {
   "cell_type": "code",
   "execution_count": 13,
   "metadata": {
    "collapsed": true
   },
   "outputs": [],
   "source": [
    "def cleanTestData(X,mask):\n",
    "    clean_X = X[X.columns[mask]]\n",
    "    catFeatureslist = []\n",
    "    for colName in clean_X.columns:\n",
    "        if(colName[0:3]==\"cat\"):\n",
    "            catFeatureslist.append(colName)\n",
    "    clean_X = pd.get_dummies(clean_X,columns = catFeatureslist,drop_first = True, sparse = True)\n",
    "    contFeatureslist = []\n",
    "    for colName in clean_X.columns:\n",
    "        if(colName[0:4]==\"cont\"):\n",
    "            contFeatureslist.append(colName)\n",
    "    clean_X[contFeatureslist] = pd.DataFrame(preprocessing.scale(clean_X[contFeatureslist]),index = clean_X.index, columns = contFeatureslist)\n",
    "    return clean_X "
   ]
  },
  {
   "cell_type": "code",
   "execution_count": 14,
   "metadata": {
    "collapsed": false
   },
   "outputs": [],
   "source": [
    "X_test = test.drop([\"cat89\",\"cat92\",\"cat96\",\"cat99\",\"cat103\",\"cat106\",\"cat109\",\"cat110\",\"cat113\",\"cat116\"],axis=1)\n",
    "\n",
    "X_test_new = cleanTestData(X_test,mask)"
   ]
  },
  {
   "cell_type": "code",
   "execution_count": 18,
   "metadata": {
    "collapsed": false
   },
   "outputs": [],
   "source": [
    "cols = X_train_new.columns.intersection(X_test_new.columns)"
   ]
  },
  {
   "cell_type": "code",
   "execution_count": 19,
   "metadata": {
    "collapsed": false
   },
   "outputs": [],
   "source": [
    "\n",
    "X_train_new = pd.DataFrame(X_train_new,columns=cols)\n",
    "X_test_new = pd.DataFrame(X_test_new,columns=cols)"
   ]
  },
  {
   "cell_type": "code",
   "execution_count": 20,
   "metadata": {
    "collapsed": true
   },
   "outputs": [],
   "source": [
    "def LassoValMae(X_tr, Y_tr, k, cs):\n",
    "    '''\n",
    "    Perform k-fold cross validation on logistic regression, varies C and penalty Type (L1 or L2),\n",
    "    returns a dictionary where key=c,value=[auc-c1, auc-c2, ...auc-ck].\n",
    "    '''\n",
    "    cv = KFold(n=X_tr.shape[0], n_folds = k)\n",
    "    maes = {}\n",
    "\n",
    "    for train_index, test_index in cv:\n",
    "        X_tr_f = X_tr.iloc[train_index]\n",
    "        X_va_f = X_tr.iloc[test_index]\n",
    "        Y_tr_f = Y_tr.iloc[train_index]\n",
    "        Y_va_f = Y_tr.iloc[test_index]\n",
    "        \n",
    "        for c in cs:\n",
    "            lr = linear_model.Lasso(alpha=c)\n",
    "            lr.fit(X_tr_f,Y_tr_f)\n",
    "            met = mean_absolute_error(np.expm1(Y_va_f), np.expm1(lr.predict(X_va_f)))\n",
    "            if c in maes:\n",
    "                maes[c].append(met)\n",
    "            else:\n",
    "                maes[c] = [met]   \n",
    "    return maes"
   ]
  },
  {
   "cell_type": "code",
   "execution_count": 21,
   "metadata": {
    "collapsed": false
   },
   "outputs": [
    {
     "name": "stderr",
     "output_type": "stream",
     "text": [
      "/home/peimengsui/anaconda3/lib/python3.5/site-packages/sklearn/linear_model/coordinate_descent.py:466: ConvergenceWarning: Objective did not converge. You might want to increase the number of iterations\n",
      "  ConvergenceWarning)\n"
     ]
    }
   ],
   "source": [
    "k = 5\n",
    "exp = range(-5,0)\n",
    "cs = [10**i for i in exp]\n",
    "maes = LassoValMae(X_train_new, Y_train_new, k, cs)"
   ]
  },
  {
   "cell_type": "code",
   "execution_count": 22,
   "metadata": {
    "collapsed": false
   },
   "outputs": [],
   "source": [
    "xval_dict = {'e':[], 'mu':[], 'sig':[]}\n",
    "for i in exp:\n",
    "    xval_dict['e'].append(i)\n",
    "    xval_dict['mu'].append(np.array(maes[10**i]).mean())\n",
    "    xval_dict['sig'].append(np.sqrt(np.array(maes[10**i]).var()))\n",
    "xvals = pd.DataFrame(xval_dict)\n",
    "xvals['low'] = xvals['mu']-xvals['sig']/np.sqrt(k)\n",
    "xvals['up'] = xvals['mu']+xvals['sig']/np.sqrt(k)\n",
    "best = xvals[xvals['mu']==min(xvals['mu'])]\n",
    "max_1std = np.array(best[\"mu\"]-(best[\"sig\"]/np.sqrt(k)))"
   ]
  },
  {
   "cell_type": "code",
   "execution_count": 23,
   "metadata": {
    "collapsed": false
   },
   "outputs": [
    {
     "data": {
      "image/png": "[encoded data removed]",
      "text/plain": [
       "<matplotlib.figure.Figure at 0x7fddcc55df60>"
      ]
     },
     "metadata": {},
     "output_type": "display_data"
    }
   ],
   "source": [
    "plt.clf()\n",
    "plt.plot(xvals['e'], xvals['mu'], 'k')\n",
    "plt.plot(xvals['e'], xvals['low'], 'k+', label='Lower')\n",
    "plt.plot(xvals['e'], xvals['up'], 'k--',label='Upper')\n",
    "plt.plot(xvals['e'], np.ones(len(exp))*max_1std, 'r', label ='1 std err rule')\n",
    "plt.legend(loc=4)\n",
    "plt.show()"
   ]
  },
  {
   "cell_type": "code",
   "execution_count": 24,
   "metadata": {
    "collapsed": false
   },
   "outputs": [
    {
     "data": {
      "text/html": [
       "<div>\n",
       "<table border=\"1\" class=\"dataframe\">\n",
       "  <thead>\n",
       "    <tr style=\"text-align: right;\">\n",
       "      <th></th>\n",
       "      <th>e</th>\n",
       "      <th>mu</th>\n",
       "      <th>sig</th>\n",
       "      <th>low</th>\n",
       "      <th>up</th>\n",
       "    </tr>\n",
       "  </thead>\n",
       "  <tbody>\n",
       "    <tr>\n",
       "      <th>0</th>\n",
       "      <td>-5</td>\n",
       "      <td>1316.135717</td>\n",
       "      <td>10.22944</td>\n",
       "      <td>1311.560972</td>\n",
       "      <td>1320.710462</td>\n",
       "    </tr>\n",
       "  </tbody>\n",
       "</table>\n",
       "</div>"
      ],
      "text/plain": [
       "   e           mu       sig          low           up\n",
       "0 -5  1316.135717  10.22944  1311.560972  1320.710462"
      ]
     },
     "execution_count": 24,
     "metadata": {},
     "output_type": "execute_result"
    }
   ],
   "source": [
    "best"
   ]
  },
  {
   "cell_type": "code",
   "execution_count": 29,
   "metadata": {
    "collapsed": false
   },
   "outputs": [
    {
     "name": "stderr",
     "output_type": "stream",
     "text": [
      "/home/peimengsui/anaconda3/lib/python3.5/site-packages/sklearn/linear_model/coordinate_descent.py:466: ConvergenceWarning: Objective did not converge. You might want to increase the number of iterations\n",
      "  ConvergenceWarning)\n"
     ]
    },
    {
     "data": {
      "text/plain": [
       "Lasso(alpha=1e-05, copy_X=True, fit_intercept=True, max_iter=1000,\n",
       "   normalize=False, positive=False, precompute=False, random_state=None,\n",
       "   selection='cyclic', tol=0.0001, warm_start=False)"
      ]
     },
     "execution_count": 29,
     "metadata": {},
     "output_type": "execute_result"
    }
   ],
   "source": [
    "best_lasso = linear_model.Lasso(alpha=10**int(best[\"e\"]))\n",
    "best_lasso.fit(X_train_new,Y_train_new)"
   ]
  },
  {
   "cell_type": "code",
   "execution_count": 30,
   "metadata": {
    "collapsed": false
   },
   "outputs": [],
   "source": [
    "prediction = np.expm1(best_lasso.predict(X_test_new))"
   ]
  },
  {
   "cell_type": "code",
   "execution_count": 31,
   "metadata": {
    "collapsed": true
   },
   "outputs": [],
   "source": [
    "submit = pd.read_csv(\"sample_submission.csv\")"
   ]
  },
  {
   "cell_type": "code",
   "execution_count": 32,
   "metadata": {
    "collapsed": true
   },
   "outputs": [],
   "source": [
    "submit[\"loss\"] = prediction\n",
    "submit.to_csv(\"lasso_template.csv\",index=False)"
   ]
  },
  {
   "cell_type": "code",
   "execution_count": null,
   "metadata": {
    "collapsed": true
   },
   "outputs": [],
   "source": []
  }
 ],
 "metadata": {
  "anaconda-cloud": {},
  "kernelspec": {
   "display_name": "Python [Root]",
   "language": "python",
   "name": "Python [Root]"
  },
  "language_info": {
   "codemirror_mode": {
    "name": "ipython",
    "version": 3
   },
   "file_extension": ".py",
   "mimetype": "text/x-python",
   "name": "python",
   "nbconvert_exporter": "python",
   "pygments_lexer": "ipython3",
   "version": "3.5.2"
  }
 },
 "nbformat": 4,
 "nbformat_minor": 0
}
